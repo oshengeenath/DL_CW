{
 "cells": [
  {
   "cell_type": "markdown",
   "metadata": {},
   "source": [
    "Importing the necessary dependencies"
   ]
  },
  {
   "cell_type": "code",
   "execution_count": 1,
   "metadata": {},
   "outputs": [
    {
     "name": "stderr",
     "output_type": "stream",
     "text": [
      "/home/ai_ds_team/anaconda3/envs/Bert/lib/python3.8/site-packages/tqdm/auto.py:21: TqdmWarning: IProgress not found. Please update jupyter and ipywidgets. See https://ipywidgets.readthedocs.io/en/stable/user_install.html\n",
      "  from .autonotebook import tqdm as notebook_tqdm\n"
     ]
    }
   ],
   "source": [
    "import pandas as pd\n",
    "import numpy as np\n",
    "import matplotlib.pyplot as plt\n",
    "import seaborn as sns\n",
    "import time\n",
    "from tqdm import tqdm\n",
    "from sklearn.model_selection import train_test_split\n",
    "from transformers import AutoTokenizer, AutoModelForSequenceClassification\n",
    "import torch\n",
    "from torch.utils.data import DataLoader, TensorDataset\n",
    "from sklearn.metrics import accuracy_score, confusion_matrix, classification_report\n",
    "import nltk\n",
    "from nltk.corpus import stopwords\n"
   ]
  },
  {
   "cell_type": "markdown",
   "metadata": {},
   "source": [
    "Loading the dataset and reviewing it"
   ]
  },
  {
   "cell_type": "code",
   "execution_count": 2,
   "metadata": {},
   "outputs": [],
   "source": [
    "df = pd.read_csv('Shuffled_CSV.csv')"
   ]
  },
  {
   "cell_type": "code",
   "execution_count": 3,
   "metadata": {},
   "outputs": [
    {
     "data": {
      "text/html": [
       "<div>\n",
       "<style scoped>\n",
       "    .dataframe tbody tr th:only-of-type {\n",
       "        vertical-align: middle;\n",
       "    }\n",
       "\n",
       "    .dataframe tbody tr th {\n",
       "        vertical-align: top;\n",
       "    }\n",
       "\n",
       "    .dataframe thead th {\n",
       "        text-align: right;\n",
       "    }\n",
       "</style>\n",
       "<table border=\"1\" class=\"dataframe\">\n",
       "  <thead>\n",
       "    <tr style=\"text-align: right;\">\n",
       "      <th></th>\n",
       "      <th>review_id</th>\n",
       "      <th>user_id</th>\n",
       "      <th>business_id</th>\n",
       "      <th>stars</th>\n",
       "      <th>useful</th>\n",
       "      <th>funny</th>\n",
       "      <th>cool</th>\n",
       "      <th>text</th>\n",
       "      <th>date</th>\n",
       "    </tr>\n",
       "  </thead>\n",
       "  <tbody>\n",
       "    <tr>\n",
       "      <th>0</th>\n",
       "      <td>TP3JOzhokiB_jLkMXlFm7w</td>\n",
       "      <td>EKy39Tkb90Sdrd_91smkkw</td>\n",
       "      <td>ZwkdQGbg27T1jtFSP6-ggw</td>\n",
       "      <td>3</td>\n",
       "      <td>0</td>\n",
       "      <td>0</td>\n",
       "      <td>0</td>\n",
       "      <td>Online order/Takeout Review\\n\\nI ordered an Eg...</td>\n",
       "      <td>2016-12-13 19:42:22</td>\n",
       "    </tr>\n",
       "    <tr>\n",
       "      <th>1</th>\n",
       "      <td>wS3FH2ta4ID4y1oMr9d52w</td>\n",
       "      <td>EJHPq713MuIh-U1gVv8PTQ</td>\n",
       "      <td>qNiZVduTtw3d1zGjHSM9zg</td>\n",
       "      <td>5</td>\n",
       "      <td>2</td>\n",
       "      <td>1</td>\n",
       "      <td>1</td>\n",
       "      <td>This gym is awesome. The environment is big, b...</td>\n",
       "      <td>2013-05-06 03:47:03</td>\n",
       "    </tr>\n",
       "    <tr>\n",
       "      <th>2</th>\n",
       "      <td>bb5axCMeArv_onk1GXGHFg</td>\n",
       "      <td>-D0-Y24Lf8MuGpCCYgnkoA</td>\n",
       "      <td>3LYKr4nbBVcNUlC4QelSfA</td>\n",
       "      <td>1</td>\n",
       "      <td>0</td>\n",
       "      <td>0</td>\n",
       "      <td>0</td>\n",
       "      <td>Can driver hit both cars in front and behind h...</td>\n",
       "      <td>2019-07-15 02:39:28</td>\n",
       "    </tr>\n",
       "    <tr>\n",
       "      <th>3</th>\n",
       "      <td>TGXtz3GLWGonBb7w1rk5rw</td>\n",
       "      <td>WI_popiz94TU4oksd-T60Q</td>\n",
       "      <td>Yu401DtSmkXpJhgXnQcFrg</td>\n",
       "      <td>3</td>\n",
       "      <td>0</td>\n",
       "      <td>0</td>\n",
       "      <td>0</td>\n",
       "      <td>Was alway here before found the ocean harbor. ...</td>\n",
       "      <td>2015-06-19 16:52:06</td>\n",
       "    </tr>\n",
       "    <tr>\n",
       "      <th>4</th>\n",
       "      <td>zTB2Jxk3XLn6gu7wyhwvMg</td>\n",
       "      <td>2gUXdt8OGs-ZslJLQTVLBA</td>\n",
       "      <td>tPqKzAu8DAKfONM4jXxj1Q</td>\n",
       "      <td>1</td>\n",
       "      <td>5</td>\n",
       "      <td>7</td>\n",
       "      <td>0</td>\n",
       "      <td>Complete fake. Told me i had been cursed n wan...</td>\n",
       "      <td>2016-08-10 02:27:44</td>\n",
       "    </tr>\n",
       "    <tr>\n",
       "      <th>...</th>\n",
       "      <td>...</td>\n",
       "      <td>...</td>\n",
       "      <td>...</td>\n",
       "      <td>...</td>\n",
       "      <td>...</td>\n",
       "      <td>...</td>\n",
       "      <td>...</td>\n",
       "      <td>...</td>\n",
       "      <td>...</td>\n",
       "    </tr>\n",
       "    <tr>\n",
       "      <th>74995</th>\n",
       "      <td>WiCsLGSWqXu4FDkYrWaZag</td>\n",
       "      <td>dbWn8HCsG3eI9AmS2G3O2g</td>\n",
       "      <td>gTwgRz52imtyggXCrH2Xng</td>\n",
       "      <td>4</td>\n",
       "      <td>1</td>\n",
       "      <td>0</td>\n",
       "      <td>0</td>\n",
       "      <td>This place is neat. Neat art, neat gifts, neat...</td>\n",
       "      <td>2012-11-24 01:30:55</td>\n",
       "    </tr>\n",
       "    <tr>\n",
       "      <th>74996</th>\n",
       "      <td>C0_-EQmOMvGmdLr2rogzeg</td>\n",
       "      <td>6UU6fIyUfQTVSD8smwAsLQ</td>\n",
       "      <td>BmXHqVREFyTe1Fy0fyCvFw</td>\n",
       "      <td>3</td>\n",
       "      <td>0</td>\n",
       "      <td>0</td>\n",
       "      <td>0</td>\n",
       "      <td>Great location. Cash only so be prepared. Food...</td>\n",
       "      <td>2017-03-27 03:15:52</td>\n",
       "    </tr>\n",
       "    <tr>\n",
       "      <th>74997</th>\n",
       "      <td>uJqB7aQCvdzA-Wuiqseu8A</td>\n",
       "      <td>tLubOlCAOEd3hd7Jd18MpA</td>\n",
       "      <td>LbAl4kMZ3PA4ca42GIrY4w</td>\n",
       "      <td>1</td>\n",
       "      <td>3</td>\n",
       "      <td>0</td>\n",
       "      <td>0</td>\n",
       "      <td>We went here for brunch a week after they open...</td>\n",
       "      <td>2011-08-07 19:29:50</td>\n",
       "    </tr>\n",
       "    <tr>\n",
       "      <th>74998</th>\n",
       "      <td>eBnSrMM1dmRu_N9KU8XXdg</td>\n",
       "      <td>Ccwx1naaEcaVNG-gd3OFuw</td>\n",
       "      <td>469cDiOBw6Hs0dUdFQrEmg</td>\n",
       "      <td>1</td>\n",
       "      <td>12</td>\n",
       "      <td>0</td>\n",
       "      <td>1</td>\n",
       "      <td>See the end of my comments for help getting an...</td>\n",
       "      <td>2021-06-21 16:11:24</td>\n",
       "    </tr>\n",
       "    <tr>\n",
       "      <th>74999</th>\n",
       "      <td>lFpWJdknlHP_JqQU5wCFvg</td>\n",
       "      <td>6toEhpmJxknHFKBw5u3xWQ</td>\n",
       "      <td>ltBBYdNzkeKdCNPDAsxwAA</td>\n",
       "      <td>3</td>\n",
       "      <td>0</td>\n",
       "      <td>0</td>\n",
       "      <td>0</td>\n",
       "      <td>This is a pretty cool space. The mostly covere...</td>\n",
       "      <td>2011-12-07 18:40:26</td>\n",
       "    </tr>\n",
       "  </tbody>\n",
       "</table>\n",
       "<p>75000 rows × 9 columns</p>\n",
       "</div>"
      ],
      "text/plain": [
       "                    review_id                 user_id             business_id  \\\n",
       "0      TP3JOzhokiB_jLkMXlFm7w  EKy39Tkb90Sdrd_91smkkw  ZwkdQGbg27T1jtFSP6-ggw   \n",
       "1      wS3FH2ta4ID4y1oMr9d52w  EJHPq713MuIh-U1gVv8PTQ  qNiZVduTtw3d1zGjHSM9zg   \n",
       "2      bb5axCMeArv_onk1GXGHFg  -D0-Y24Lf8MuGpCCYgnkoA  3LYKr4nbBVcNUlC4QelSfA   \n",
       "3      TGXtz3GLWGonBb7w1rk5rw  WI_popiz94TU4oksd-T60Q  Yu401DtSmkXpJhgXnQcFrg   \n",
       "4      zTB2Jxk3XLn6gu7wyhwvMg  2gUXdt8OGs-ZslJLQTVLBA  tPqKzAu8DAKfONM4jXxj1Q   \n",
       "...                       ...                     ...                     ...   \n",
       "74995  WiCsLGSWqXu4FDkYrWaZag  dbWn8HCsG3eI9AmS2G3O2g  gTwgRz52imtyggXCrH2Xng   \n",
       "74996  C0_-EQmOMvGmdLr2rogzeg  6UU6fIyUfQTVSD8smwAsLQ  BmXHqVREFyTe1Fy0fyCvFw   \n",
       "74997  uJqB7aQCvdzA-Wuiqseu8A  tLubOlCAOEd3hd7Jd18MpA  LbAl4kMZ3PA4ca42GIrY4w   \n",
       "74998  eBnSrMM1dmRu_N9KU8XXdg  Ccwx1naaEcaVNG-gd3OFuw  469cDiOBw6Hs0dUdFQrEmg   \n",
       "74999  lFpWJdknlHP_JqQU5wCFvg  6toEhpmJxknHFKBw5u3xWQ  ltBBYdNzkeKdCNPDAsxwAA   \n",
       "\n",
       "       stars  useful  funny  cool  \\\n",
       "0          3       0      0     0   \n",
       "1          5       2      1     1   \n",
       "2          1       0      0     0   \n",
       "3          3       0      0     0   \n",
       "4          1       5      7     0   \n",
       "...      ...     ...    ...   ...   \n",
       "74995      4       1      0     0   \n",
       "74996      3       0      0     0   \n",
       "74997      1       3      0     0   \n",
       "74998      1      12      0     1   \n",
       "74999      3       0      0     0   \n",
       "\n",
       "                                                    text                 date  \n",
       "0      Online order/Takeout Review\\n\\nI ordered an Eg...  2016-12-13 19:42:22  \n",
       "1      This gym is awesome. The environment is big, b...  2013-05-06 03:47:03  \n",
       "2      Can driver hit both cars in front and behind h...  2019-07-15 02:39:28  \n",
       "3      Was alway here before found the ocean harbor. ...  2015-06-19 16:52:06  \n",
       "4      Complete fake. Told me i had been cursed n wan...  2016-08-10 02:27:44  \n",
       "...                                                  ...                  ...  \n",
       "74995  This place is neat. Neat art, neat gifts, neat...  2012-11-24 01:30:55  \n",
       "74996  Great location. Cash only so be prepared. Food...  2017-03-27 03:15:52  \n",
       "74997  We went here for brunch a week after they open...  2011-08-07 19:29:50  \n",
       "74998  See the end of my comments for help getting an...  2021-06-21 16:11:24  \n",
       "74999  This is a pretty cool space. The mostly covere...  2011-12-07 18:40:26  \n",
       "\n",
       "[75000 rows x 9 columns]"
      ]
     },
     "execution_count": 3,
     "metadata": {},
     "output_type": "execute_result"
    }
   ],
   "source": [
    "df"
   ]
  },
  {
   "cell_type": "code",
   "execution_count": 4,
   "metadata": {},
   "outputs": [
    {
     "name": "stdout",
     "output_type": "stream",
     "text": [
      "(75000, 9)\n"
     ]
    }
   ],
   "source": [
    "print(df.shape)"
   ]
  },
  {
   "cell_type": "code",
   "execution_count": 5,
   "metadata": {},
   "outputs": [
    {
     "name": "stdout",
     "output_type": "stream",
     "text": [
      "                review_id                 user_id             business_id  \\\n",
      "0  TP3JOzhokiB_jLkMXlFm7w  EKy39Tkb90Sdrd_91smkkw  ZwkdQGbg27T1jtFSP6-ggw   \n",
      "1  wS3FH2ta4ID4y1oMr9d52w  EJHPq713MuIh-U1gVv8PTQ  qNiZVduTtw3d1zGjHSM9zg   \n",
      "2  bb5axCMeArv_onk1GXGHFg  -D0-Y24Lf8MuGpCCYgnkoA  3LYKr4nbBVcNUlC4QelSfA   \n",
      "3  TGXtz3GLWGonBb7w1rk5rw  WI_popiz94TU4oksd-T60Q  Yu401DtSmkXpJhgXnQcFrg   \n",
      "4  zTB2Jxk3XLn6gu7wyhwvMg  2gUXdt8OGs-ZslJLQTVLBA  tPqKzAu8DAKfONM4jXxj1Q   \n",
      "\n",
      "   stars  useful  funny  cool  \\\n",
      "0      3       0      0     0   \n",
      "1      5       2      1     1   \n",
      "2      1       0      0     0   \n",
      "3      3       0      0     0   \n",
      "4      1       5      7     0   \n",
      "\n",
      "                                                text                 date  \n",
      "0  Online order/Takeout Review\\n\\nI ordered an Eg...  2016-12-13 19:42:22  \n",
      "1  This gym is awesome. The environment is big, b...  2013-05-06 03:47:03  \n",
      "2  Can driver hit both cars in front and behind h...  2019-07-15 02:39:28  \n",
      "3  Was alway here before found the ocean harbor. ...  2015-06-19 16:52:06  \n",
      "4  Complete fake. Told me i had been cursed n wan...  2016-08-10 02:27:44  \n"
     ]
    }
   ],
   "source": [
    "#Print the header\n",
    "Header = df.head(5)\n",
    "print(Header)"
   ]
  },
  {
   "cell_type": "markdown",
   "metadata": {},
   "source": [
    "Doing some EDA"
   ]
  },
  {
   "cell_type": "code",
   "execution_count": 6,
   "metadata": {},
   "outputs": [
    {
     "name": "stdout",
     "output_type": "stream",
     "text": [
      "review_id      0\n",
      "user_id        0\n",
      "business_id    0\n",
      "stars          0\n",
      "useful         0\n",
      "funny          0\n",
      "cool           0\n",
      "text           0\n",
      "date           0\n",
      "dtype: int64\n"
     ]
    }
   ],
   "source": [
    "# check for null values\n",
    "null_Values = df.isnull().sum()\n",
    "print(null_Values)"
   ]
  },
  {
   "cell_type": "code",
   "execution_count": 7,
   "metadata": {},
   "outputs": [
    {
     "name": "stdout",
     "output_type": "stream",
     "text": [
      "es\n",
      "Panadería las americas. En lugar de excelencia y delicia elaborando ele jorge pan y postres para cada ocasión y gusto . Sin duda la mejor\n",
      "1247\n",
      "it\n",
      "Fantastic garlic knots, prosciutto and basil pizza, and pesto pizza! Thanks Yelp for the recommendation!\n",
      "1509\n",
      "da\n",
      "Just got some ribs for under 5bucks mmmm delicious :)\n",
      "1531\n",
      "fr\n",
      "Le paradis de la sucrerie à gros prix.\n",
      "\n",
      "Mon épouse n'a pu résister et nous y sommes entrés hier soir le 7 juillet 2015.  Tant qu'à moi, je suis béni, car je dois faire très attention en résistant à ces tentations de type doux satanisme avec mes tendances diabétiques sinon j'aurais certainement commis un gros péché chocolaté.  Après avoir fais le tour une couple de fois, mon épouse décida d'arrêter son choix sur une petite galette de chocolat dans une vitrine là où ces merveilles valaient $19.95 le kilo.  Son petit péché coûta $5.03 ce qui nous semble trop cher malgré le fait qu'elle avait un poids impressionnant malgré sa petitesse.  J'en saisi l'occasion pour faire plusieurs photos que je vous partagerai quand je ferai le tri de mes photos de voyage.  Même sans avoir succombé, j'ai aimé visiter cet endroit et mon épouse également.\n",
      "Alors nous recommandons d'y faire une visite et soyez avisés que rien ne semble bon marché dans cette boutique de rêve pour amateurs et amatrices de friandises chocolatés et de plusieurs autres péchés mignons sucrés. \n",
      "                                    ______________________________________________\n",
      "\n",
      "Avis écrit le 8 juillet 2015 à Nashville, Tennesse, États-Unis (USA).\n",
      "1777\n",
      "et\n",
      "Oil dchange us v eye hs I.  Riki c  ru eiIopb fliibtkik krgi v IKOujkkiirriu  y rliieo\n",
      "5026\n",
      "it\n",
      "Do solamenote due stelle non perché il cibo non fosse buono, ma perché i bao per 14$ erano veramente ridicoli. Potrebbero inoltre servire il cibo nei piatti anche a coloro che si siedono ad un metro dal bancone. Comunque in questo market ci sono diverse opzioni di cibo.\n",
      "5731\n",
      "so\n",
      "Management needs to teach their staff the concept of good customer service it hahahhahahhaahahahahahahahahahhhahahahahaahaahahahahahaahaggagagagagagagag !!!!!!!!!!!!!!!!!!!!!!!!!!!!!!!!!!!!! :))))))::)):::::((((((((((((\n",
      "5962\n",
      "so\n",
      "WE had good bim bi ba & bulbogi ;)\n",
      "5965\n",
      "af\n",
      "Yuk, yuk, yuk, yuk! Go to Delasssandros instead! Did not like Genos or Pats. OVERATED1\n",
      "5971\n",
      "tl\n",
      "Meatball is good, but salad is a bit disappointing.\n",
      "7241\n",
      "es\n",
      "Por primera ves he visitado este lugar .me pareció muy estupendo .la comida muy deliciosa  la  atención fue excelente y muy atenta,esperamos regresar pronto y que nos vuelva a atender el amigo mesero HACIB!!!!!\n",
      "9778\n",
      "tl\n",
      "Sara sherr banging karaoke on sunday night.\n",
      "9873\n",
      "es\n",
      "Solamente esta burrito de pollo, es necesitar conformación quatro estrellas. Un poco caro.\n",
      "10831\n",
      "da\n",
      "Covered parking, friendly staff, free beverage.\n",
      "12616\n",
      "zh-cn\n",
      "超棒很正宗的中餐厅，超喜欢这里的牙签羊肉，微辣，爆炒的羊肉焦黄，有适量的辣椒粉，有推荐点这道菜。来sb找朋友玩，无意发现的一家刚刚开业的新店，装修风格很高雅用餐环境干净，周末还有乐队演出，氛围超棒！价格适中\n",
      "14815\n",
      "pt\n",
      "di parma pizza is DELICIOUS!!!!!  nom nom nom!!!!!\n",
      "\n",
      "and outdoor seating!\n",
      "15321\n",
      "it\n",
      "Great little \"Hole in the Wall\" pizza place. \n",
      "Excellent pizza.\n",
      "18088\n",
      "it\n",
      "Closest pizza to NYC. Love it!\n",
      "20271\n",
      "sv\n",
      "OAFWICH!  Best sammach ever.\n",
      "20280\n",
      "it\n",
      "Locale in pieno stile delle paninoteche del posto, maxi schermi, grande bancone x le bibite, noi ci siamo andati per pranzo ed era praticamente vuoto, meglio andarci di sera ... Fanno spesso musica dal vivo. Per i panini, nulla di che, la Pigna colada invece era davvero buona.\n",
      "20813\n",
      "it\n",
      "I ate pizza from here once.\n",
      "\n",
      "ONCE.\n",
      "21065\n",
      "es\n",
      "Bad bad fui con mi familia mi nińo de 2 ańos estaba comiendo de un fast food y la empleada muy arrogante nos dice que no se puede entrar con comida de otro lado y anterior mente tuvimos un mal servicio no vuelvo a entrar hay mejor me muero del hambre\n",
      "21122\n",
      "sv\n",
      "BB Kings Blues Club ligger utmed ett stråk på 2:nd Avenue centralt och tvärgata till den stora Broadway. Grannar med bl.a. Wildhorse Saloon, Hooters och Hard Rock Café. Det är turistmagneter allesammans, stora välbesökta ställen med egna souvenir shoppar och ofta med bra live musik på sina scener (då tar vid såna tillfällen ibland inträdde). Roligt att tillbringa en stund här. Bra mat och service, kul inredning. Värt att slå ihjäl några timmar här, men inget absolut måste.\n",
      "22474\n",
      "de\n",
      "Hier an diesem Ort hat man die Möglichkeit vor seinem Flug, bzw. zwischen den Flügen die Zeit bis zum Ab/Weiterflug angenehm und Komfortabel zu Verbringen. Die Lounge ist mit bequemen Möbeln eingerichtet, für jeden ist genug Space Vorhanden um sich in aller Ruhe zu entspannen. Leider ist hier das Angebot an Speisen nicht sehr groß. Es ist größtenteils auf Snack`s begrenzt, das ist sehr Schade und trübt den sonst guten Eindruck der Lounge doch etwas. Im Bezug auf Getränke gab es nichts zu Bemängeln. Die Lounge ist zwar etwas versteckt, aber man kann sich ja hier leicht durchfragen um die Örtlichkeit zu finden.\n",
      "23201\n",
      "es\n",
      "Delicious, amazing, the tortilla test like home made , everything is perfect , \n",
      "Los tacos están deliciosos, la tortilla es bien autentica , lo único q necesitan son unas buenas micheladas\n",
      "25960\n",
      "af\n",
      "omg! omg! omg! omg! omg! omg! omg! omg! omg! omg! omg! omg! omg! omg! omg! wet brisket & pulled pork will make your eyes roll & toes curl. sooooooooooooo beyond good!!!!\n",
      "26070\n",
      "nl\n",
      "Xxexxx. I see eXoddodxddezexeeddedodddeddededxdxedeeexeexded e e d the best of luck to you Essex. Eeeeee oe best ee evere sieeand eeee ded seeeeeede e to  weed e\n",
      "26199\n",
      "es\n",
      "Muy buen lugar para comer Po-Boys en el centro de new orleans\n",
      "26756\n",
      "es\n",
      "Todo esta muy rico pero Las SALSAS NO TANTO \n",
      "si la salsas estuvieran mas buenas seria el lugar perfecto\n",
      "28286\n",
      "fr\n",
      "Clean cab, quiet driver ad average fare. No complaints, no concerns.\n",
      "28362\n",
      "es\n",
      "Excelente atención, calidad y precio ! Deseo volver la próxima vez que venga a Nashville\n",
      "28694\n",
      "af\n",
      "i freaking love this happy joe's pizza it is soooooooooooooooooooooooooooooooooooooooooooo good!!!\n",
      "28792\n",
      "es\n",
      "3-11-18  muy mal servicio a la raza hispana . Así que no regresaré a este lugar donde te tratan mal\n",
      "31671\n",
      "fr\n",
      "En fait, j'aurais donner probablement deux étoiles mais j'en ajoute une pour \"l'expérience\". Cet hôtel étais probablement le mieux situé par rapport à l'aéroport de Indianapolis puisqu'il est littéralement attenant au terminal... qui à fermé en 2008! A cette date, l'aéroport à commencer à opérer à partir du nouveau terminal situé entre les piste et un peu plus à l'ouest. Cela fait que l'hôtel à perdu son avantage principal et que les prix sont plus bas.\n",
      "\n",
      "Ma chambre avais une vus sur les pistes et l'ancien terminal ce qui étais une expérience un peu étrange de voir le terminal \"fantôme\" juste à côté.\n",
      "\n",
      "Autrement les chambre étais correctes même si un peu vieillotte et le service étais acceptables.\n",
      "31969\n",
      "de\n",
      "Mittelmässig. Zu viel Knoblauch an den Gerichten. Das Servicepersonal ist aufmerksam und zuvorkommend. Aber die italienischen Gerichte sind eine amerikanische Interpretation.\n",
      "33416\n",
      "fr\n",
      "Horrible management. quotes on rent kept changing. current construction nightmare.\n",
      "34573\n",
      "es\n",
      "Excelente comida pero mal servicio mala organización de las meseras e comido 3 veces aquí y solo vuelvo por que la comida es de primera.\n",
      "35185\n",
      "es\n",
      "Great food \n",
      "Great services and peoples \n",
      "Family time\n",
      "Tremendo lugar para pasar en familia un buen rato\n",
      "Valió la pena manejar dos horas para probar su deliciosa comida.... Y el cafésito Cuban Sandwich\n",
      "36390\n",
      "it\n",
      "Deep dish pizza.  Deep dish pizza. Deep dish pizza.  Deep dish pizza. Deep dish pizza.  Deep dish pizza. Deep dish pizza.  Deep dish pizza. Deep dish pizza.  Deep dish pizza. Deep dish pizza.  Deep dish pizza. Deep dish pizza.  Deep dish pizza. Deep dish pizza.  Deep dish pizza.\n",
      "40613\n",
      "fr\n",
      "La salle est un peu foncé, les entrées sont très petites mais bonnes. Par contre le plat principal est extra ( surtout la viande)\n",
      "41761\n",
      "de\n",
      "Wir waren enttäuscht - vielleicht war auch die Erwartungshaltung zu hoch. In allen Führern der Region wird diese Missionskirche als die am besten erhaltene in den USA beschrieben und ein Besuch unbedingt empfohlen.\n",
      "\n",
      "Wir folgten dem Rat. Um 1700 gründeten hier die Jesuiten eine Missionsstation, bereits 1797 wurde die heutige Kirche erbaut. Seit 1960 ist sie ein National Historic Landmark. Für amerikanische Verhältnisse mag diese weiß leuchtende Kirche etwas Besonderes sein. Wir Europäer jedoch haben derartig viele, beeindruckende historische Kirchen, dass man gar nicht umhin kann, Vergleiche anzustellen. Fairerweise muss man jedoch die geschichtlichen Verhältnisse hier im Südwesten der USA im 18. Jhdt. berücksichtigen, um diesen Bau zu würdigen.\n",
      "\n",
      "An Sonntagen ist die Kirche für Besucher nicht zugänglich, sie wird dann für Gottesdienste genutzt. An allen anderen Tagen ist der Zugang kostenfrei. Und ein Tummelplatz für Touristen, so wie wir. Ein sehr großer Parkplatz belegt die regelmäßige Besucherfrequenz.\n",
      "\n",
      "In einem kleinen Museum erfährt man etwas über die Geschichte des Platzes. Von einem Hügel direkt neben der Mission hat man einen schönen Blick auf die Kirche von oben. Gegenüber dem Haupteingang der Kirche mehrere kleine Läden im Quaree mit einem ruhigen Innenhof. Am Parkplatz Stände, an denen Indianer ihre handgefertigten Waren feilbieten: Ketten, Ringe, Schmuckstücke, Taschen etc.\n",
      "\n",
      "Die Missionskirche San Xavier del Bac liegt nur 10 Meilen südlich von Tucson. Es ist also von dort aus kein Aufwand für einen Besuch. Geschichtlich ein interessanter Platz, optisch weniger. Drei - allerdings gute - Sterne.\n",
      "42192\n",
      "da\n",
      "Kind of like Dennys, but tastier options\n",
      "42361\n",
      "it\n",
      "Locale poco pulito,pietanze più che scadenti,servizio pessimo (assoluta mancanza di professionalità e gentilezza).Abbiamo ordinato un piatto con cozze e patatine fritte,le patatine fritte sono arrivate a tavola bruciate (poco prima era scattato l'allarme antincendio nel locale...probabilmente proprio perché avevano dimenticato di togliere le patatine dalla friggitrice e stavano per andare a fuoco ) abbiamo chiesto se per favore,potevano rifarci il piatto,almeno,le patatine...ci è stato risposto che li le patatine le cuociono così .Abbiamo mandato indietro il piatto perché non ci andava di mangiare una cosa palesemente bruciata,sia alla vista,sia al sapore. Ci portano il conto e,con grande sorpresa,troviamo il piatto bruciato e non consumato sullo scontrino. Abbiamo pagato $36 per 2 birre (bottiglietta piccola),1 specie di bruschetta e il famoso piatto non mangiato!volevo pubblicare il post senza neanche una stella,ma a quanto pare non è possibile....\n",
      "45226\n",
      "de\n",
      "Aus Deutschland kommend muss ich sagen, dass mich dieses All-You-Can-Eat-Buffet regelrecht umgehauen hat! Mit wahnsinnig viel Platz und einer sauberen Präsentation (natürlich ist dabei auch die Klimatisierung selbstverständlich) kann man sich hier den Bauch vollschlagen, jedoch alles in einer sehr guten Qualität.\n",
      "\n",
      "Hauptsächlich aber nicht ausschließlich gibt es Meeresfrüchte, frischen Fisch, gutes und vielfältiges Sushi, mariniertes Fleisch, Udon-Suppen, Crepes, Hibachi (wo das Essen auf riesigen Kochflächen vor deinen Augen zubereitet wird) und eine üppige Dessert-Theke mit Obst, Kuchen, Plätzchen und Softeis-Maschine.\n",
      "\n",
      "Abends ist das Angebot größer (z.B. gibt es große Krebse zum \"Selberknacken\" mit Buttersauce), kostet dann 30,00$. Die Bedienung ist (wie man es in Amerika immer wieder antrifft) sehr zuvorkommend und überaus freundlich. Daher: Beim Trinkgeld nicht geizen!\n",
      "46077\n",
      "es\n",
      "En varias ocasiones he ido a comer y me e encontrado Pelos y ligas en la comida y varias veces el arroz también está hechado a perder y el trato no es el mejor cuando uno va a pedir que desea comer espero que mejoren en estos aspectos..\n",
      "46684\n",
      "fr\n",
      "Excellent restaurant tout près du quartier de Frenchmen street. La carte (courte) change régulièrement et les associations de mets sont très intéressantes ! La cuisson des viandes est parfaite et les légumes et accompagnements au top ! Gardez aussi un peu de place pour les desserts !\n",
      "47744\n",
      "es\n",
      "Horrible no tienen precisión en la ordenes pedí en frito burritos y no tenia fritos y lo devolví para atrás y me hicieron otro y tenia solo una pisca no vuelvo mas a ese\n",
      "48067\n",
      "es\n",
      "Nuestra experiencia fue horrible--paul es una persona muy amable y no tenemos ningun problema con el,pero la dueña de la muebleria es una persona patetica,ruda y maleducada,compramos dos sofas por 3 mil dolares y tuvieron que ordenarlos,nos dijeron que tomaria dos semanas para entregarnolos y el martes asado fueron tres semanas y ellos jamas llamaron para disculparse por el retraso de los sofas,mi esposo llamo hace dos dias y dijeron que estarian aqui para el pasado viernes,hoy fui yo\n",
      "Personalmente ala tienda a preguntar que estaba pasando con mis sofas y al mirar la actitud tan déspota y patetica de la dueña decidi pedir un reembolsó de mi dinero,yo esperaba una disculpa por lo menos de la dueña,alguna palabra de lo sentimos o hay algo que podamos haver por ustedes? (Ya que nos hicieron perder mas de tres semanas de nuestro tiempo) pero no ella solo le dijo a paul que estaba bien que me reembolsará\n",
      "Mi dinero... en verdad mi esposo y yo estamos muy molestos con esta falta de respeto y el\n",
      "Mal servicio al cliente con esta muebleria..jamas regresaremos ... hout y anais\n",
      "48206\n",
      "nl\n",
      "Smells like chicken noodle soup - Maddee M. \n",
      "\n",
      "\n",
      "\n",
      "\n",
      "Smells like chicken noodle soup - Maddee M.\n",
      "48615\n",
      "nl\n",
      "Best hamburgers we've ever had, hands down.  You don't like it, you don't know burgers, dog.\n",
      "50076\n",
      "sv\n",
      "Jag har fortfarande kvar att förstå storheten hos det här stället som många andra Yelp:are verkar ha hittat. Har två besök här hittills och pizzan var väl OK och min Stromboli bestod mest utav bröd som doppas i marinara sås och väldigt lite av ost och köttbullar som var de två andra huvudsakliga ingredienserna.\n",
      "\n",
      "Stället populärt i vart fall. Fredagar och lördagar svårt att få bord här utan att köa utanför eller vänta vid baren.\n",
      "50643\n",
      "es\n",
      "Wow, this place is amazing... el servicio rapido, y muy atentos. Tortillas a mano, el comal yeno, la plancha servida... making it my favorite place...\n",
      "50845\n",
      "it\n",
      "Accostamenti azzardati ma ben riusciti, sicuramente molto particolari ma che personalmente ho trovato altrettanto gradevoli.\n",
      "Certo, devono piacere i piatti speziati.\n",
      "Materie prime buone.\n",
      "Servizio pronto e cortese, locale tipico e carino.\n",
      "Prezzi ragionevoli.\n",
      "Lo consiglio assolutamente per sperimentare un buon ristorante di cucina locale, ma se non siete del posto dovete essere propensi ad assaggiare sapori nuovi.\n",
      "51120\n",
      "fr\n",
      "L\n",
      "52628\n",
      "es\n",
      "I don't recommend it  Hot Chocolate \n",
      "No recomiendo este lugar.Compre un chocolate caliente y es horrible.\n",
      "53577\n",
      "af\n",
      "Ok burgers\n",
      "54779\n",
      "fr\n",
      "Our favorite restaurant in Hendersonville!!!\n",
      "55224\n",
      "es\n",
      "Me duele tanto tener que decir esto, pero no se me hace justo que pagamos 60 dólares en nuestra orden de esta noche. En medio de una pandemia el dinero no ha sido fácil de ganar. Pero mi esposo insistió en que deberíamos de darnos el gusto de cenar de uno de nuestros restaurantes favoritos en Philly. Y cual fue nuestra sorpresa que la carne de los tacos eran puros pellejos. Es injusto  espero que contacten, it's not okay, we are very upset. Ordenamos la cena en la aplicación Uber eats.\n",
      "55495\n",
      "es\n",
      "La comida es muy rica .pero el servicio es muy lento es el lugar más lento en el que he comido\n",
      "57363\n",
      "sv\n",
      "Okay salad, still like qdoba better\n",
      "57695\n",
      "fr\n",
      "Une bonne pause pour bien manger.\n",
      "Beaucoup de pâtisserie Française \"Américanisée\" de bonne qualité\n",
      "du salé, du sucré.\n",
      "Bonne étape\n",
      "Je recommande\n",
      "61227\n",
      "es\n",
      "Excelente restaurante.  Atendido por orientales que hablan poco inglés pero son muy amables.\n",
      "Pedimos unas empanadas fritas llenas de queso que se sirven con una salsa agridulce. Estaban excelentes.\n",
      "Los Rock Shrimp eran unos camarones fritos con una salsa similar a mayonesa ligeramente picante.  Los camarones estaban bien (en Estados Unidos los camarones son ligeramente insípidos, pero es un problema nacional) pero la salsa los complementaba muy bien.\n",
      "Los fried pork dumplings estuvieron deliciosos.\n",
      "La estrella de la noche fue la carne con cebolla Scallion Beef que estaba muy suave, sabrosa y perfectamente cocinada.\n",
      "Quedamos muy felices con la visita.\n",
      "Soy de Costa Rica y me encanta cuando encuentro restaurantes tan buenos.\n",
      "62811\n",
      "es\n",
      "Un lugar relajante, con buena selección de cervezas, las hamburguesas deja mucho que desear  ya que son de carne congelada, el pan no está tan mal aun que podrían tener un pan más fresco. El precio no está mal pero pagaría 5 dólares más por una buena Hamburguesa que incluyan  papas y ira más frecuente, si tuvieran más variedad.\n",
      "63742\n",
      "de\n",
      "Absolut geniale Tour durch die Sümpfe des Jean Lafitte National Park, wir hatten sehr viel Spaß und haben viel gesehen.\n",
      "\n",
      "Wir waren recht früh da, hatten uns nach der Anmeldung noch etwas hinters haus gesetzt bis es los ging. Wir hatten ein Boot für 21 Personen gebucht da diese etwas günstiger ist, aber da wir nur 8 Leute waren ging es mit dem 10er Boot auf Tour. Am Preis hat sich für uns nichts geändert, dass fand ich super.\n",
      "\n",
      "Die Airboots kennt man aus Film und Fernsehen, sie sind sehr schnell und laut. Es gibt auf jedem Boot ausreichend Gehörschutz falls es einem doch zu laut ist. Vom Fluss aus ist man in 5 Minuten in den Sümpfen und schon nach kurzer Zeit haben wir auch schon ein Alligator zu Gesicht bekommen. Dieser sonnte sich gerade, ließ sich aber nicht stören als wir nah ran gefahren sind. Als Belohnung gab es Marshmallows, Alligatoren lieben es! Wer hätte es gedacht? Ich nicht!\n",
      "\n",
      "Unser Guide war ein sau cooler Typ, er war super witzig. Hatte echt Ahnung und kam auch sehr gut mit den Alligatoren zurecht. Er ist schon als Kind damit groß geworden und war sehr vertraut mit den Tieren, man merkte ihm aber den Respekt an den er vor Ihnen hatte.\n",
      "\n",
      "Echt coole Tour, auf jeden Fall zu empfehlen.\n",
      "\n",
      "Tip: Wenn ihr unbedingt Alligatoren sehen wollt, dann informiert euch vorher ob es auch die Zeit dafür ist. Die Botte fahren das ganze Jahr, aber die Alligatoren sind nicht immer zu sehen.\n",
      "63931\n",
      "es\n",
      "Servicio pesimo .. la mesera estaba con una cara que no quieria estar ahi. Vinimos para probar las empanadas porque estamos buscando hacer una orden de appretivoa para nuestra boda y cuando le dijimos a las mesera que solo las empanadas, si pusto mas pesada. Si nos hubierada tradado mejor alomejor hubiéramos comprado una orden grande pero con este servicio para que.\n",
      "66044\n",
      "de\n",
      "TipTop, sehr schmackhaft - und das Personal auch nett. Auch preislich ist es ok. Dort Essen ist etwas eng, aber für Take-Away ideal. 5von5\n",
      "67641\n",
      "zh-cn\n",
      "IV小火锅店，味道还行吧，上菜速度有点慢。一个火锅不单加其他材料就是特别特别少的菜在里面。点了一个沙茶牛肉锅，两片牛肉两片蘑菇两片西红柿两片豆腐和一些白菜和粉丝。菜量很小。\n",
      "71010\n",
      "es\n",
      "Le cambiaron el aderezo de los anticuchos,no deberian hacer eso, que lastima lo hacian rico\n",
      "71222\n"
     ]
    }
   ],
   "source": [
    "#Finding the languages \n",
    "from langdetect import detect\n",
    "for i in range (len(df[\"text\"])):\n",
    "    language = detect(df['text'][i])\n",
    "    if language != 'en':\n",
    "        print(language)\n",
    "        print(df['text'][i])\n",
    "        print(i)\n",
    "        df.drop(i, inplace=True)\n",
    "        "
   ]
  },
  {
   "cell_type": "code",
   "execution_count": 8,
   "metadata": {},
   "outputs": [],
   "source": [
    "df.reset_index(drop=True, inplace=True)\n"
   ]
  },
  {
   "cell_type": "code",
   "execution_count": 9,
   "metadata": {},
   "outputs": [
    {
     "data": {
      "text/plain": [
       "\"Online order/Takeout Review\\n\\nI ordered an Egg Salad Club Sandwich and sweet potato fries through Yelp and called before I picked up to ensure that my food was ready. That was a good idea because through that call, I found out that they ran out of ink and couldn't see the order. \\nThe woman on the phone wasn't that kind/apologetic at the time of our call but I still worked with her and repeated my order. \\n\\nWhen I got inside, there was a little chaos because although I pre-paid, they had no ink to verify it apart from the receipt on my phone. I was just observing the cashier for a few minutes and wrote down the confirmation number and contact information. I didn't receive a kind word of consolation or apology until I was about to leave with my food. Usually, they should start out the conversation with the apology for confusion and inconvenience and then be kind as they work through their issues. \\n\\nFood: The Egg Salad Club Sandwich was absolutely burnt uûdelicious. The white bread they used was slightly thicker than most and so soft. It was great. The contents of the sandwich (Tomato, lettuce, bacon) tasted SO fresh. I loved it. \\nThe sweet potato (waffle) fries were okay. I was served so many burnt fires that I couldn't enjoy it though. I picked at them and only ate the non-burnt pieces. Not happy and I should have gone back for fresh fries but I needed to return to work.\""
      ]
     },
     "execution_count": 9,
     "metadata": {},
     "output_type": "execute_result"
    }
   ],
   "source": [
    "df['text'][0]"
   ]
  },
  {
   "cell_type": "code",
   "execution_count": 10,
   "metadata": {},
   "outputs": [
    {
     "data": {
      "text/html": [
       "<div>\n",
       "<style scoped>\n",
       "    .dataframe tbody tr th:only-of-type {\n",
       "        vertical-align: middle;\n",
       "    }\n",
       "\n",
       "    .dataframe tbody tr th {\n",
       "        vertical-align: top;\n",
       "    }\n",
       "\n",
       "    .dataframe thead th {\n",
       "        text-align: right;\n",
       "    }\n",
       "</style>\n",
       "<table border=\"1\" class=\"dataframe\">\n",
       "  <thead>\n",
       "    <tr style=\"text-align: right;\">\n",
       "      <th></th>\n",
       "      <th>review_id</th>\n",
       "      <th>user_id</th>\n",
       "      <th>business_id</th>\n",
       "      <th>stars</th>\n",
       "      <th>useful</th>\n",
       "      <th>funny</th>\n",
       "      <th>cool</th>\n",
       "      <th>text</th>\n",
       "      <th>date</th>\n",
       "    </tr>\n",
       "  </thead>\n",
       "  <tbody>\n",
       "    <tr>\n",
       "      <th>0</th>\n",
       "      <td>TP3JOzhokiB_jLkMXlFm7w</td>\n",
       "      <td>EKy39Tkb90Sdrd_91smkkw</td>\n",
       "      <td>ZwkdQGbg27T1jtFSP6-ggw</td>\n",
       "      <td>3</td>\n",
       "      <td>0</td>\n",
       "      <td>0</td>\n",
       "      <td>0</td>\n",
       "      <td>Online order/Takeout Review\\n\\nI ordered an Eg...</td>\n",
       "      <td>2016-12-13 19:42:22</td>\n",
       "    </tr>\n",
       "    <tr>\n",
       "      <th>1</th>\n",
       "      <td>wS3FH2ta4ID4y1oMr9d52w</td>\n",
       "      <td>EJHPq713MuIh-U1gVv8PTQ</td>\n",
       "      <td>qNiZVduTtw3d1zGjHSM9zg</td>\n",
       "      <td>5</td>\n",
       "      <td>2</td>\n",
       "      <td>1</td>\n",
       "      <td>1</td>\n",
       "      <td>This gym is awesome. The environment is big, b...</td>\n",
       "      <td>2013-05-06 03:47:03</td>\n",
       "    </tr>\n",
       "    <tr>\n",
       "      <th>2</th>\n",
       "      <td>bb5axCMeArv_onk1GXGHFg</td>\n",
       "      <td>-D0-Y24Lf8MuGpCCYgnkoA</td>\n",
       "      <td>3LYKr4nbBVcNUlC4QelSfA</td>\n",
       "      <td>1</td>\n",
       "      <td>0</td>\n",
       "      <td>0</td>\n",
       "      <td>0</td>\n",
       "      <td>Can driver hit both cars in front and behind h...</td>\n",
       "      <td>2019-07-15 02:39:28</td>\n",
       "    </tr>\n",
       "    <tr>\n",
       "      <th>3</th>\n",
       "      <td>TGXtz3GLWGonBb7w1rk5rw</td>\n",
       "      <td>WI_popiz94TU4oksd-T60Q</td>\n",
       "      <td>Yu401DtSmkXpJhgXnQcFrg</td>\n",
       "      <td>3</td>\n",
       "      <td>0</td>\n",
       "      <td>0</td>\n",
       "      <td>0</td>\n",
       "      <td>Was alway here before found the ocean harbor. ...</td>\n",
       "      <td>2015-06-19 16:52:06</td>\n",
       "    </tr>\n",
       "    <tr>\n",
       "      <th>4</th>\n",
       "      <td>zTB2Jxk3XLn6gu7wyhwvMg</td>\n",
       "      <td>2gUXdt8OGs-ZslJLQTVLBA</td>\n",
       "      <td>tPqKzAu8DAKfONM4jXxj1Q</td>\n",
       "      <td>1</td>\n",
       "      <td>5</td>\n",
       "      <td>7</td>\n",
       "      <td>0</td>\n",
       "      <td>Complete fake. Told me i had been cursed n wan...</td>\n",
       "      <td>2016-08-10 02:27:44</td>\n",
       "    </tr>\n",
       "    <tr>\n",
       "      <th>...</th>\n",
       "      <td>...</td>\n",
       "      <td>...</td>\n",
       "      <td>...</td>\n",
       "      <td>...</td>\n",
       "      <td>...</td>\n",
       "      <td>...</td>\n",
       "      <td>...</td>\n",
       "      <td>...</td>\n",
       "      <td>...</td>\n",
       "    </tr>\n",
       "    <tr>\n",
       "      <th>74927</th>\n",
       "      <td>WiCsLGSWqXu4FDkYrWaZag</td>\n",
       "      <td>dbWn8HCsG3eI9AmS2G3O2g</td>\n",
       "      <td>gTwgRz52imtyggXCrH2Xng</td>\n",
       "      <td>4</td>\n",
       "      <td>1</td>\n",
       "      <td>0</td>\n",
       "      <td>0</td>\n",
       "      <td>This place is neat. Neat art, neat gifts, neat...</td>\n",
       "      <td>2012-11-24 01:30:55</td>\n",
       "    </tr>\n",
       "    <tr>\n",
       "      <th>74928</th>\n",
       "      <td>C0_-EQmOMvGmdLr2rogzeg</td>\n",
       "      <td>6UU6fIyUfQTVSD8smwAsLQ</td>\n",
       "      <td>BmXHqVREFyTe1Fy0fyCvFw</td>\n",
       "      <td>3</td>\n",
       "      <td>0</td>\n",
       "      <td>0</td>\n",
       "      <td>0</td>\n",
       "      <td>Great location. Cash only so be prepared. Food...</td>\n",
       "      <td>2017-03-27 03:15:52</td>\n",
       "    </tr>\n",
       "    <tr>\n",
       "      <th>74929</th>\n",
       "      <td>uJqB7aQCvdzA-Wuiqseu8A</td>\n",
       "      <td>tLubOlCAOEd3hd7Jd18MpA</td>\n",
       "      <td>LbAl4kMZ3PA4ca42GIrY4w</td>\n",
       "      <td>1</td>\n",
       "      <td>3</td>\n",
       "      <td>0</td>\n",
       "      <td>0</td>\n",
       "      <td>We went here for brunch a week after they open...</td>\n",
       "      <td>2011-08-07 19:29:50</td>\n",
       "    </tr>\n",
       "    <tr>\n",
       "      <th>74930</th>\n",
       "      <td>eBnSrMM1dmRu_N9KU8XXdg</td>\n",
       "      <td>Ccwx1naaEcaVNG-gd3OFuw</td>\n",
       "      <td>469cDiOBw6Hs0dUdFQrEmg</td>\n",
       "      <td>1</td>\n",
       "      <td>12</td>\n",
       "      <td>0</td>\n",
       "      <td>1</td>\n",
       "      <td>See the end of my comments for help getting an...</td>\n",
       "      <td>2021-06-21 16:11:24</td>\n",
       "    </tr>\n",
       "    <tr>\n",
       "      <th>74931</th>\n",
       "      <td>lFpWJdknlHP_JqQU5wCFvg</td>\n",
       "      <td>6toEhpmJxknHFKBw5u3xWQ</td>\n",
       "      <td>ltBBYdNzkeKdCNPDAsxwAA</td>\n",
       "      <td>3</td>\n",
       "      <td>0</td>\n",
       "      <td>0</td>\n",
       "      <td>0</td>\n",
       "      <td>This is a pretty cool space. The mostly covere...</td>\n",
       "      <td>2011-12-07 18:40:26</td>\n",
       "    </tr>\n",
       "  </tbody>\n",
       "</table>\n",
       "<p>74932 rows × 9 columns</p>\n",
       "</div>"
      ],
      "text/plain": [
       "                    review_id                 user_id             business_id  \\\n",
       "0      TP3JOzhokiB_jLkMXlFm7w  EKy39Tkb90Sdrd_91smkkw  ZwkdQGbg27T1jtFSP6-ggw   \n",
       "1      wS3FH2ta4ID4y1oMr9d52w  EJHPq713MuIh-U1gVv8PTQ  qNiZVduTtw3d1zGjHSM9zg   \n",
       "2      bb5axCMeArv_onk1GXGHFg  -D0-Y24Lf8MuGpCCYgnkoA  3LYKr4nbBVcNUlC4QelSfA   \n",
       "3      TGXtz3GLWGonBb7w1rk5rw  WI_popiz94TU4oksd-T60Q  Yu401DtSmkXpJhgXnQcFrg   \n",
       "4      zTB2Jxk3XLn6gu7wyhwvMg  2gUXdt8OGs-ZslJLQTVLBA  tPqKzAu8DAKfONM4jXxj1Q   \n",
       "...                       ...                     ...                     ...   \n",
       "74927  WiCsLGSWqXu4FDkYrWaZag  dbWn8HCsG3eI9AmS2G3O2g  gTwgRz52imtyggXCrH2Xng   \n",
       "74928  C0_-EQmOMvGmdLr2rogzeg  6UU6fIyUfQTVSD8smwAsLQ  BmXHqVREFyTe1Fy0fyCvFw   \n",
       "74929  uJqB7aQCvdzA-Wuiqseu8A  tLubOlCAOEd3hd7Jd18MpA  LbAl4kMZ3PA4ca42GIrY4w   \n",
       "74930  eBnSrMM1dmRu_N9KU8XXdg  Ccwx1naaEcaVNG-gd3OFuw  469cDiOBw6Hs0dUdFQrEmg   \n",
       "74931  lFpWJdknlHP_JqQU5wCFvg  6toEhpmJxknHFKBw5u3xWQ  ltBBYdNzkeKdCNPDAsxwAA   \n",
       "\n",
       "       stars  useful  funny  cool  \\\n",
       "0          3       0      0     0   \n",
       "1          5       2      1     1   \n",
       "2          1       0      0     0   \n",
       "3          3       0      0     0   \n",
       "4          1       5      7     0   \n",
       "...      ...     ...    ...   ...   \n",
       "74927      4       1      0     0   \n",
       "74928      3       0      0     0   \n",
       "74929      1       3      0     0   \n",
       "74930      1      12      0     1   \n",
       "74931      3       0      0     0   \n",
       "\n",
       "                                                    text                 date  \n",
       "0      Online order/Takeout Review\\n\\nI ordered an Eg...  2016-12-13 19:42:22  \n",
       "1      This gym is awesome. The environment is big, b...  2013-05-06 03:47:03  \n",
       "2      Can driver hit both cars in front and behind h...  2019-07-15 02:39:28  \n",
       "3      Was alway here before found the ocean harbor. ...  2015-06-19 16:52:06  \n",
       "4      Complete fake. Told me i had been cursed n wan...  2016-08-10 02:27:44  \n",
       "...                                                  ...                  ...  \n",
       "74927  This place is neat. Neat art, neat gifts, neat...  2012-11-24 01:30:55  \n",
       "74928  Great location. Cash only so be prepared. Food...  2017-03-27 03:15:52  \n",
       "74929  We went here for brunch a week after they open...  2011-08-07 19:29:50  \n",
       "74930  See the end of my comments for help getting an...  2021-06-21 16:11:24  \n",
       "74931  This is a pretty cool space. The mostly covere...  2011-12-07 18:40:26  \n",
       "\n",
       "[74932 rows x 9 columns]"
      ]
     },
     "execution_count": 10,
     "metadata": {},
     "output_type": "execute_result"
    }
   ],
   "source": [
    "df"
   ]
  },
  {
   "cell_type": "code",
   "execution_count": 11,
   "metadata": {},
   "outputs": [
    {
     "name": "stderr",
     "output_type": "stream",
     "text": [
      "[nltk_data] Downloading package stopwords to\n",
      "[nltk_data]     /home/ai_ds_team/nltk_data...\n",
      "[nltk_data]   Package stopwords is already up-to-date!\n"
     ]
    }
   ],
   "source": [
    "nltk.download('stopwords')\n",
    "\",\".join(stopwords.words(\"english\"))\n",
    "stop_words = set(stopwords.words('english'))"
   ]
  },
  {
   "cell_type": "code",
   "execution_count": 12,
   "metadata": {},
   "outputs": [],
   "source": [
    "# Define the remove_stop_words function\n",
    "def remove_stop_words(x):\n",
    "    return \" \".join([word for word in str(x).split() if word.lower() not in stop_words])\n",
    "\n",
    "# Apply the function to create a new column 'filtered_text'\n",
    "df['filtered_text'] = df['text'].apply(lambda x: remove_stop_words(x))"
   ]
  },
  {
   "cell_type": "code",
   "execution_count": 13,
   "metadata": {},
   "outputs": [
    {
     "data": {
      "text/plain": [
       "'Online order/Takeout Review ordered Egg Salad Club Sandwich sweet potato fries Yelp called picked ensure food ready. good idea call, found ran ink see order. woman phone kind/apologetic time call still worked repeated order. got inside, little chaos although pre-paid, ink verify apart receipt phone. observing cashier minutes wrote confirmation number contact information. receive kind word consolation apology leave food. Usually, start conversation apology confusion inconvenience kind work issues. Food: Egg Salad Club Sandwich absolutely burnt uûdelicious. white bread used slightly thicker soft. great. contents sandwich (Tomato, lettuce, bacon) tasted fresh. loved it. sweet potato (waffle) fries okay. served many burnt fires enjoy though. picked ate non-burnt pieces. happy gone back fresh fries needed return work.'"
      ]
     },
     "execution_count": 13,
     "metadata": {},
     "output_type": "execute_result"
    }
   ],
   "source": [
    "df['filtered_text'][0]"
   ]
  },
  {
   "cell_type": "code",
   "execution_count": 14,
   "metadata": {},
   "outputs": [
    {
     "name": "stdout",
     "output_type": "stream",
     "text": [
      "0\n"
     ]
    }
   ],
   "source": [
    "duplicates = df.duplicated().sum()\n",
    "print(duplicates)\n"
   ]
  },
  {
   "cell_type": "markdown",
   "metadata": {},
   "source": [
    "Visualizing the dataset"
   ]
  },
  {
   "cell_type": "code",
   "execution_count": 15,
   "metadata": {},
   "outputs": [
    {
     "data": {
      "image/png": "[encoded data removed]",
      "text/plain": [
       "<Figure size 1000x500 with 1 Axes>"
      ]
     },
     "metadata": {},
     "output_type": "display_data"
    }
   ],
   "source": [
    "Bar_plot = df[\"stars\"].value_counts().sort_index() \\\n",
    "    .plot(kind='bar',\n",
    "           title=\"Count of reviews by stars\",\n",
    "           figsize=(10,5))\n",
    "\n",
    "Bar_plot.set_xlabel('Review Stars')\n",
    "Bar_plot.set_ylabel('Number of reviews')\n",
    "plt.show()"
   ]
  },
  {
   "cell_type": "code",
   "execution_count": 16,
   "metadata": {},
   "outputs": [],
   "source": [
    "#2 for positive, 1 for neutral, 3 for negative\n",
    "df[\"Reviews\"] = df[\"stars\"].apply(lambda score: 2 if score >= 4 else 1 if score == 3 else 0)"
   ]
  },
  {
   "cell_type": "code",
   "execution_count": 17,
   "metadata": {},
   "outputs": [
    {
     "data": {
      "text/plain": [
       "Reviews\n",
       "0    24984\n",
       "1    24976\n",
       "2    24972\n",
       "Name: count, dtype: int64"
      ]
     },
     "execution_count": 17,
     "metadata": {},
     "output_type": "execute_result"
    }
   ],
   "source": [
    "df[\"Reviews\"].value_counts()"
   ]
  },
  {
   "cell_type": "code",
   "execution_count": 18,
   "metadata": {},
   "outputs": [],
   "source": [
    "New_DataFrame = df[['filtered_text','Reviews']]"
   ]
  },
  {
   "cell_type": "code",
   "execution_count": 19,
   "metadata": {},
   "outputs": [
    {
     "data": {
      "image/png": "[encoded data removed]",
      "text/plain": [
       "<Figure size 1000x500 with 1 Axes>"
      ]
     },
     "metadata": {},
     "output_type": "display_data"
    }
   ],
   "source": [
    "Bar_plot = df[\"Reviews\"].value_counts().sort_index() \\\n",
    "    .plot(kind='bar',\n",
    "           title=\"Comparission of postive and negative reviews\",\n",
    "           figsize=(10,5))\n",
    "\n",
    "Bar_plot.set_xlabel('Type of the review')\n",
    "Bar_plot.set_ylabel('Number of reviews')\n",
    "plt.show()"
   ]
  },
  {
   "cell_type": "code",
   "execution_count": 20,
   "metadata": {},
   "outputs": [
    {
     "data": {
      "text/html": [
       "<div>\n",
       "<style scoped>\n",
       "    .dataframe tbody tr th:only-of-type {\n",
       "        vertical-align: middle;\n",
       "    }\n",
       "\n",
       "    .dataframe tbody tr th {\n",
       "        vertical-align: top;\n",
       "    }\n",
       "\n",
       "    .dataframe thead th {\n",
       "        text-align: right;\n",
       "    }\n",
       "</style>\n",
       "<table border=\"1\" class=\"dataframe\">\n",
       "  <thead>\n",
       "    <tr style=\"text-align: right;\">\n",
       "      <th></th>\n",
       "      <th>filtered_text</th>\n",
       "      <th>Reviews</th>\n",
       "    </tr>\n",
       "  </thead>\n",
       "  <tbody>\n",
       "    <tr>\n",
       "      <th>0</th>\n",
       "      <td>Online order/Takeout Review ordered Egg Salad ...</td>\n",
       "      <td>1</td>\n",
       "    </tr>\n",
       "    <tr>\n",
       "      <th>1</th>\n",
       "      <td>gym awesome. environment big, bright, clean, q...</td>\n",
       "      <td>2</td>\n",
       "    </tr>\n",
       "    <tr>\n",
       "      <th>2</th>\n",
       "      <td>driver hit cars front behind park even though ...</td>\n",
       "      <td>0</td>\n",
       "    </tr>\n",
       "    <tr>\n",
       "      <th>3</th>\n",
       "      <td>alway found ocean harbor. wired smell restaurant.</td>\n",
       "      <td>1</td>\n",
       "    </tr>\n",
       "    <tr>\n",
       "      <th>4</th>\n",
       "      <td>Complete fake. Told cursed n wanted pay remove...</td>\n",
       "      <td>0</td>\n",
       "    </tr>\n",
       "  </tbody>\n",
       "</table>\n",
       "</div>"
      ],
      "text/plain": [
       "                                       filtered_text  Reviews\n",
       "0  Online order/Takeout Review ordered Egg Salad ...        1\n",
       "1  gym awesome. environment big, bright, clean, q...        2\n",
       "2  driver hit cars front behind park even though ...        0\n",
       "3  alway found ocean harbor. wired smell restaurant.        1\n",
       "4  Complete fake. Told cursed n wanted pay remove...        0"
      ]
     },
     "execution_count": 20,
     "metadata": {},
     "output_type": "execute_result"
    }
   ],
   "source": [
    "New_DataFrame.head(5)"
   ]
  },
  {
   "cell_type": "markdown",
   "metadata": {},
   "source": [
    "Splitting the dataset as Train and Test"
   ]
  },
  {
   "cell_type": "code",
   "execution_count": 21,
   "metadata": {},
   "outputs": [],
   "source": [
    "# Splitting the dataset into training and testing datasets\n",
    "train_Text_Data, test_Text_Data, train_label_Data, test_labels_Data = train_test_split(New_DataFrame['filtered_text'], New_DataFrame['Reviews'], test_size=0.2,stratify=New_DataFrame[\"Reviews\"], random_state=1)"
   ]
  },
  {
   "cell_type": "code",
   "execution_count": 22,
   "metadata": {},
   "outputs": [
    {
     "name": "stdout",
     "output_type": "stream",
     "text": [
      "59945\n",
      "14987\n"
     ]
    }
   ],
   "source": [
    "print(train_Text_Data.size)\n",
    "print(test_labels_Data.size)"
   ]
  },
  {
   "cell_type": "code",
   "execution_count": 23,
   "metadata": {},
   "outputs": [
    {
     "name": "stderr",
     "output_type": "stream",
     "text": [
      "Some weights of the model checkpoint at cardiffnlp/twitter-roberta-base-sentiment-latest were not used when initializing RobertaForSequenceClassification: ['roberta.pooler.dense.weight', 'roberta.pooler.dense.bias']\n",
      "- This IS expected if you are initializing RobertaForSequenceClassification from the checkpoint of a model trained on another task or with another architecture (e.g. initializing a BertForSequenceClassification model from a BertForPreTraining model).\n",
      "- This IS NOT expected if you are initializing RobertaForSequenceClassification from the checkpoint of a model that you expect to be exactly identical (initializing a BertForSequenceClassification model from a BertForSequenceClassification model).\n"
     ]
    }
   ],
   "source": [
    "#Loading the Pre-Trained model with the tokenizer\n",
    "model_Name = \"cardiffnlp/twitter-roberta-base-sentiment-latest\"\n",
    "model = AutoModelForSequenceClassification.from_pretrained(model_Name)\n",
    "tokenizer = AutoTokenizer.from_pretrained(model_Name)"
   ]
  },
  {
   "cell_type": "code",
   "execution_count": 24,
   "metadata": {},
   "outputs": [],
   "source": [
    "# Tokenizing the input text data\n",
    "train_text_encodings = tokenizer(train_Text_Data.tolist(), truncation=True, padding=True, max_length=50, add_special_tokens=True)\n",
    "test_text_encodings = tokenizer(test_Text_Data.tolist(), truncation=True, padding=True, max_length=50, add_special_tokens=True)"
   ]
  },
  {
   "cell_type": "code",
   "execution_count": 25,
   "metadata": {},
   "outputs": [],
   "source": [
    "# Convert labels and encodings in dataset objects\n",
    "train_Dataset_Object = TensorDataset(torch.tensor(train_text_encodings['input_ids']),\n",
    "                              torch.tensor(train_text_encodings['attention_mask']),\n",
    "                              torch.tensor(train_label_Data.tolist()))\n",
    "test_Dataset_Object = TensorDataset(torch.tensor(test_text_encodings['input_ids']),\n",
    "                             torch.tensor(test_text_encodings['attention_mask']),\n",
    "                             torch.tensor(test_labels_Data.tolist()))"
   ]
  },
  {
   "cell_type": "code",
   "execution_count": 26,
   "metadata": {},
   "outputs": [],
   "source": [
    "# Creating the train loaders using the dataset objects\n",
    "train_Data_Loader = DataLoader(train_Dataset_Object, batch_size=4, shuffle=True)\n",
    "test_Data_Loader = DataLoader(test_Dataset_Object, batch_size=4, shuffle=False)"
   ]
  },
  {
   "cell_type": "code",
   "execution_count": 27,
   "metadata": {},
   "outputs": [
    {
     "name": "stdout",
     "output_type": "stream",
     "text": [
      "cuda\n"
     ]
    }
   ],
   "source": [
    "# Setting the device for GPU or CPU\n",
    "device = torch.device('cuda' if torch.cuda.is_available() else 'cpu')\n",
    "model.to(device)\n",
    "print(device)"
   ]
  },
  {
   "cell_type": "code",
   "execution_count": 28,
   "metadata": {},
   "outputs": [],
   "source": [
    "# Training hyperparameters\n",
    "epochs = 5\n",
    "optimizer = torch.optim.AdamW(model.parameters(),\n",
    "                              weight_decay=0.01,\n",
    "                              lr=2e-5)"
   ]
  },
  {
   "cell_type": "code",
   "execution_count": 29,
   "metadata": {},
   "outputs": [
    {
     "name": "stderr",
     "output_type": "stream",
     "text": [
      "Epoch 1/5: 100%|██████████| 14987/14987 [13:26<00:00, 18.57it/s, Training Loss=0.637]\n"
     ]
    },
    {
     "name": "stdout",
     "output_type": "stream",
     "text": [
      "Total Training Time for Epoch 1: 806.90 minutes\n"
     ]
    },
    {
     "name": "stderr",
     "output_type": "stream",
     "text": [
      "Epoch 2/5: 100%|██████████| 14987/14987 [13:31<00:00, 18.46it/s, Training Loss=0.51] \n"
     ]
    },
    {
     "name": "stdout",
     "output_type": "stream",
     "text": [
      "Total Training Time for Epoch 2: 1618.62 minutes\n"
     ]
    },
    {
     "name": "stderr",
     "output_type": "stream",
     "text": [
      "Epoch 3/5: 100%|██████████| 14987/14987 [13:33<00:00, 18.43it/s, Training Loss=0.431]\n"
     ]
    },
    {
     "name": "stdout",
     "output_type": "stream",
     "text": [
      "Total Training Time for Epoch 3: 2431.73 minutes\n"
     ]
    },
    {
     "name": "stderr",
     "output_type": "stream",
     "text": [
      "Epoch 4/5: 100%|██████████| 14987/14987 [13:34<00:00, 18.40it/s, Training Loss=0.351]\n"
     ]
    },
    {
     "name": "stdout",
     "output_type": "stream",
     "text": [
      "Total Training Time for Epoch 4: 3246.26 minutes\n"
     ]
    },
    {
     "name": "stderr",
     "output_type": "stream",
     "text": [
      "Epoch 5/5: 100%|██████████| 14987/14987 [13:35<00:00, 18.39it/s, Training Loss=0.279]"
     ]
    },
    {
     "name": "stdout",
     "output_type": "stream",
     "text": [
      "Total Training Time for Epoch 5: 4061.29 minutes\n"
     ]
    },
    {
     "name": "stderr",
     "output_type": "stream",
     "text": [
      "\n"
     ]
    }
   ],
   "source": [
    "# Training loop\n",
    "train_losses = []\n",
    "start_time = time.time()\n",
    "\n",
    "for epoch in range(epochs):\n",
    "    model.train()\n",
    "    epoch_loss = 0\n",
    "\n",
    "    # Creating a progress bar for batches\n",
    "    progress_bar = tqdm(enumerate(train_Data_Loader, 1), total=len(train_Data_Loader), desc=f'Epoch {epoch + 1}/{epochs}')\n",
    "\n",
    "    for batch_idx, batch in progress_bar:\n",
    "        input_ids, attention_mask, Reviews = map(lambda x: x.to(device), batch)\n",
    "\n",
    "        optimizer.zero_grad()\n",
    "        outputs = model(input_ids, attention_mask=attention_mask, labels=Reviews)\n",
    "        loss = outputs.loss\n",
    "        loss.backward()\n",
    "        optimizer.step()\n",
    "\n",
    "        epoch_loss += loss.item()\n",
    "\n",
    "        # Calculating average training loss for each epoch\n",
    "        avg_epoch_loss = epoch_loss / batch_idx\n",
    "        train_losses.append(avg_epoch_loss)\n",
    "\n",
    "        progress_bar.set_postfix({'Training Loss': avg_epoch_loss})\n",
    "\n",
    "    # Calculate and display the total training time at the end of each epoch\n",
    "    elapsed_Total_Time = time.time() - start_time\n",
    "    total_minutes = elapsed_Total_Time / 60\n",
    "    print(f'Total Training Time for Epoch {epoch + 1}: {elapsed_Total_Time:.2f} minutes')\n"
   ]
  },
  {
   "cell_type": "code",
   "execution_count": 30,
   "metadata": {},
   "outputs": [
    {
     "name": "stdout",
     "output_type": "stream",
     "text": [
      "Model saved......\n"
     ]
    }
   ],
   "source": [
    "# Save the trained model to the local pc\n",
    "model.save_pretrained('Models1')\n",
    "tokenizer.save_pretrained('Tokens1')\n",
    "\n",
    "print(\"Model saved......\")"
   ]
  },
  {
   "cell_type": "markdown",
   "metadata": {},
   "source": [
    "Loading the model to do predictions"
   ]
  },
  {
   "cell_type": "code",
   "execution_count": 31,
   "metadata": {},
   "outputs": [
    {
     "name": "stdout",
     "output_type": "stream",
     "text": [
      "Using device: cuda\n"
     ]
    }
   ],
   "source": [
    "# Loading the saved fine-tuned model to get predictions\n",
    "tokenizer = AutoTokenizer.from_pretrained('Tokens1')\n",
    "model = AutoModelForSequenceClassification.from_pretrained('Models1')\n",
    "\n",
    "# Setting the device for GPU or CPU\n",
    "device = torch.device('cuda' if torch.cuda.is_available() else 'cpu')\n",
    "model.to(device)\n",
    "print(f\"Using device: {device}\")\n",
    "\n",
    "def get_predictions(review):\n",
    "    # Tokenizing the user review\n",
    "    input_Data = tokenizer(review,truncation=True, padding=True,return_tensors='pt',)\n",
    "    input_ids = input_Data['input_ids'].to(device)\n",
    "    attention_mask = input_Data['attention_mask'].to(device)\n",
    "\n",
    "    # Getting the model prediction according to the user review\n",
    "    with torch.no_grad():\n",
    "        Prediction = model(input_ids, attention_mask=attention_mask)\n",
    "\n",
    "    # Getting the predicted labels\n",
    "    logits = Prediction.logits\n",
    "    predicted_class = torch.argmax(logits, dim=1).item()\n",
    "\n",
    "    return predicted_class\n"
   ]
  },
  {
   "cell_type": "markdown",
   "metadata": {},
   "source": [
    "Testing the model"
   ]
  },
  {
   "cell_type": "code",
   "execution_count": 32,
   "metadata": {},
   "outputs": [],
   "source": [
    "#Getting user reviews\n",
    "user_Review1 = \"Wow that is delicious\""
   ]
  },
  {
   "cell_type": "code",
   "execution_count": 33,
   "metadata": {},
   "outputs": [
    {
     "name": "stderr",
     "output_type": "stream",
     "text": [
      "Asking to truncate to max_length but no maximum length is provided and the model has no predefined maximum length. Default to no truncation.\n"
     ]
    },
    {
     "name": "stdout",
     "output_type": "stream",
     "text": [
      "Positive Feedback.\n"
     ]
    }
   ],
   "source": [
    "review_Prediction = get_predictions(user_Review1)\n",
    "if review_Prediction == 2:\n",
    "    print(\"Positive Feedback.\")\n",
    "elif review_Prediction == 0:\n",
    "    print(\"Negative Feedback.\")\n",
    "else:\n",
    "    print(\"Neutral Feedback\")"
   ]
  },
  {
   "cell_type": "code",
   "execution_count": 34,
   "metadata": {},
   "outputs": [],
   "source": [
    "#Getting user reviews 2\n",
    "user_Review2 = \"Too spicy for my taste\""
   ]
  },
  {
   "cell_type": "code",
   "execution_count": 35,
   "metadata": {},
   "outputs": [
    {
     "name": "stdout",
     "output_type": "stream",
     "text": [
      "Neutral Feedback\n"
     ]
    }
   ],
   "source": [
    "review_Prediction = get_predictions(user_Review2)\n",
    "if review_Prediction == 2:\n",
    "    print(\"Positive Feedback.\")\n",
    "elif review_Prediction == 0:\n",
    "    print(\"Negative Feedback.\")\n",
    "else:\n",
    "    print(\"Neutral Feedback\")"
   ]
  },
  {
   "cell_type": "code",
   "execution_count": 36,
   "metadata": {},
   "outputs": [],
   "source": [
    "#Getting user reviews 3\n",
    "user_Review3 = \"Exceptional service\""
   ]
  },
  {
   "cell_type": "code",
   "execution_count": 37,
   "metadata": {},
   "outputs": [
    {
     "name": "stdout",
     "output_type": "stream",
     "text": [
      "Positive Feedback.\n"
     ]
    }
   ],
   "source": [
    "review_Prediction = get_predictions(user_Review3)\n",
    "if review_Prediction == 2:\n",
    "    print(\"Positive Feedback.\")\n",
    "elif review_Prediction == 0:\n",
    "    print(\"Negative Feedback.\")\n",
    "else:\n",
    "    print(\"Neutral Feedback\")"
   ]
  },
  {
   "cell_type": "code",
   "execution_count": 38,
   "metadata": {},
   "outputs": [],
   "source": [
    "#Getting user reviews 4\n",
    "user_Review4 = \"Causal atmosphere, average food\""
   ]
  },
  {
   "cell_type": "code",
   "execution_count": 39,
   "metadata": {},
   "outputs": [
    {
     "name": "stdout",
     "output_type": "stream",
     "text": [
      "Neutral Feedback\n"
     ]
    }
   ],
   "source": [
    "review_Prediction = get_predictions(user_Review4)\n",
    "if review_Prediction == 2:\n",
    "    print(\"Positive Feedback.\")\n",
    "elif review_Prediction == 0:\n",
    "    print(\"Negative Feedback.\")\n",
    "else:\n",
    "    print(\"Neutral Feedback\")"
   ]
  },
  {
   "cell_type": "code",
   "execution_count": 40,
   "metadata": {},
   "outputs": [],
   "source": [
    "#Getting user reviews 5\n",
    "user_Review5 = \"Music was too loud\""
   ]
  },
  {
   "cell_type": "code",
   "execution_count": 41,
   "metadata": {},
   "outputs": [
    {
     "name": "stdout",
     "output_type": "stream",
     "text": [
      "Neutral Feedback\n"
     ]
    }
   ],
   "source": [
    "review_Prediction = get_predictions(user_Review5)\n",
    "if review_Prediction == 2:\n",
    "    print(\"Positive Feedback.\")\n",
    "elif review_Prediction == 0:\n",
    "    print(\"Negative Feedback.\")\n",
    "else:\n",
    "    print(\"Neutral Feedback\")"
   ]
  },
  {
   "cell_type": "markdown",
   "metadata": {},
   "source": [
    "Evaluations of the model"
   ]
  },
  {
   "cell_type": "code",
   "execution_count": 42,
   "metadata": {},
   "outputs": [],
   "source": [
    "# Evaluating the model\n",
    "model.eval()\n",
    "review_Predictions = []\n",
    "ground_Truth = []\n",
    "\n",
    "with torch.no_grad():\n",
    "    for batch in test_Data_Loader:\n",
    "        input_ids, attention_mask, Reviews = map(lambda x: x.to(device), batch)\n",
    "        prediction_Results = model(input_ids, attention_mask=attention_mask)\n",
    "        logits = prediction_Results.logits\n",
    "        review_Predictions.extend(torch.argmax(logits, dim=1).cpu().numpy())\n",
    "        ground_Truth.extend(Reviews.cpu().numpy())\n"
   ]
  },
  {
   "cell_type": "code",
   "execution_count": 43,
   "metadata": {},
   "outputs": [
    {
     "name": "stdout",
     "output_type": "stream",
     "text": [
      "The test data accuracy is : 0.7619270034029493\n"
     ]
    }
   ],
   "source": [
    "test_Data_Accuracy = accuracy_score(ground_Truth, review_Predictions)\n",
    "print(f\"The test data accuracy is : {test_Data_Accuracy}\")"
   ]
  },
  {
   "cell_type": "code",
   "execution_count": 44,
   "metadata": {},
   "outputs": [],
   "source": [
    "# Calculating the cunfusion matrix\n",
    "confusion = confusion_matrix(ground_Truth, review_Predictions)"
   ]
  },
  {
   "cell_type": "code",
   "execution_count": 45,
   "metadata": {},
   "outputs": [
    {
     "data": {
      "image/png": "[encoded data removed]",
      "text/plain": [
       "<Figure size 800x600 with 2 Axes>"
      ]
     },
     "metadata": {},
     "output_type": "display_data"
    }
   ],
   "source": [
    "# PLotting the confusion matrix in a heat map\n",
    "plt.figure(figsize=(8, 6))\n",
    "sns.heatmap(confusion, annot=True, fmt='d', cmap='twilight', xticklabels=['Negative Reviews',\"Neutral Reviews\", 'Positive Reviews'],yticklabels=['Negative Reviews',\"Neutral Reviews\", 'Positive Reviews'])\n",
    "plt.title('Model Results')\n",
    "plt.xlabel('Predicted Reviews')\n",
    "plt.ylabel('Ground Truth')\n",
    "\n",
    "plt.show()"
   ]
  },
  {
   "cell_type": "code",
   "execution_count": 46,
   "metadata": {},
   "outputs": [
    {
     "name": "stdout",
     "output_type": "stream",
     "text": [
      "                  precision    recall  f1-score   support\n",
      "\n",
      "Negative reviews       0.81      0.76      0.79      4997\n",
      " Neutral Reviews       0.65      0.72      0.69      4995\n",
      " Postive reviews       0.84      0.80      0.82      4995\n",
      "\n",
      "        accuracy                           0.76     14987\n",
      "       macro avg       0.77      0.76      0.76     14987\n",
      "    weighted avg       0.77      0.76      0.76     14987\n",
      "\n"
     ]
    }
   ],
   "source": [
    "print(classification_report(ground_Truth, review_Predictions,target_names=['Negative reviews','Neutral Reviews', 'Postive reviews']))"
   ]
  }
 ],
 "metadata": {
  "kernelspec": {
   "display_name": "Sentiment",
   "language": "python",
   "name": "python3"
  },
  "language_info": {
   "codemirror_mode": {
    "name": "ipython",
    "version": 3
   },
   "file_extension": ".py",
   "mimetype": "text/x-python",
   "name": "python",
   "nbconvert_exporter": "python",
   "pygments_lexer": "ipython3",
   "version": "3.8.18"
  }
 },
 "nbformat": 4,
 "nbformat_minor": 2
}
